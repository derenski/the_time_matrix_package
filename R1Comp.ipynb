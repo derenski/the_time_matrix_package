{
 "cells": [
  {
   "cell_type": "code",
   "execution_count": 1,
   "metadata": {},
   "outputs": [],
   "source": [
    "import numpy as np"
   ]
  },
  {
   "cell_type": "code",
   "execution_count": 17,
   "metadata": {},
   "outputs": [],
   "source": [
    "r_init=10; N=1000"
   ]
  },
  {
   "cell_type": "code",
   "execution_count": 18,
   "metadata": {},
   "outputs": [],
   "source": [
    "randomTry = np.random.multivariate_normal(np.zeros(r_init), np.diag(np.ones(r_init)), size=N)"
   ]
  },
  {
   "cell_type": "code",
   "execution_count": 22,
   "metadata": {},
   "outputs": [],
   "source": [
    "aThingy = np.apply_along_axis(lambda x: x/np.linalg.norm(x), 0 ,randomTry)"
   ]
  },
  {
   "cell_type": "code",
   "execution_count": 54,
   "metadata": {},
   "outputs": [
    {
     "data": {
      "text/plain": [
       "(1000, 1)"
      ]
     },
     "execution_count": 54,
     "metadata": {},
     "output_type": "execute_result"
    }
   ],
   "source": [
    "np.atleast_2d(aThingy[:,1]).transpose().shape"
   ]
  },
  {
   "cell_type": "code",
   "execution_count": 1,
   "metadata": {},
   "outputs": [],
   "source": [
    "def completion_with_rank_estimation_weighted(Y, W, weightMatrix=None, r_init=40, \n",
    "                                        tolerance=1e-04, min_iter=10,max_iter=1000, mu=1e-10):\n",
    "    \n",
    "    def P_Omega(Y, D): ## Projects data onto set of observed entries,\n",
    "                   ## Where D_ij=0 means observed, and D_ij=1 mean missing\n",
    "    \n",
    "        return(Y*(1-D))\n",
    "    \n",
    "  ### Do NOT root the weight matrix!! \n",
    "  \n",
    "    if(weightMatrix is None):\n",
    "    \n",
    "      weightMatrix = np.ones(Y.shape)\n",
    "    \n",
    "  \n",
    "  \n",
    "    def shrink_operator(x, mu): ## A helper function, the shrinkage operator\n",
    "    \n",
    "        if (x > 1*mu):\n",
    "      \n",
    "            return(x-mu)\n",
    "      \n",
    "        elif abs(x)< mu:\n",
    "      \n",
    "            return(0)\n",
    "      \n",
    "        else:\n",
    "      \n",
    "            return(x+mu)\n",
    "  \n",
    "    N = Y.shape[0]\n",
    "  \n",
    "    Time = Y.shape[1]\n",
    "  \n",
    "    Us = np.random.multivariate_normal(np.zeros(r_init), np.diag(np.ones(r_init)), size=N)\n",
    "    \n",
    "    Us = np.apply_along_axis(lambda x: x/np.linalg.norm(x), 0 ,Us)\n",
    "  \n",
    "    sigma_vec = np.random.normal(loc=0.0, scale=1.0, size=r_init)\n",
    "  \n",
    "    Vs = np.random.multivariate_normal(np.zeros(r_init), np.diag(np.ones(r_init)), size=Time)\n",
    "  \n",
    "    Vs = np.apply_along_axis(lambda x: x/np.linalg.norm(x), 0 ,Vs)\n",
    "  \n",
    "    r = r_init\n",
    "  \n",
    "    L_k = P_Omega(Y, \n",
    "                  W)\n",
    "  \n",
    "    iterating = True\n",
    "  \n",
    "    iter_number = 1\n",
    "   \n",
    "    while iterating:\n",
    "    \n",
    "        L_k_r = L_k\n",
    "    \n",
    "        if iter_number==1:\n",
    "      \n",
    "          parts_to_update = range(len(sigma_vec))\n",
    "      \n",
    "        else:\n",
    "      \n",
    "          parts_to_update = np.where(sigma_vec > 0)[0]\n",
    "      \n",
    "    \n",
    "        for r_number in parts_to_update: ## Note: weights don't influence update of u,v (because we normalize)\n",
    "      \n",
    "      ## Two algorithms should be identical when matrix is just 1's (unless initialized differently)\n",
    "      \n",
    "            Us[:, r_number] = np.apply_along_axis(lambda x: 1/np.sum(x), 1, weightMatrix)*np.matmul((weightMatrix*L_k_r), Vs[:, r_number])\n",
    "      \n",
    "            Us[:, r_number] = Us[:, r_number]/np.linalg.norm(Us[:, r_number])\n",
    "      \n",
    "            Vs[:, r_number] = np.apply_along_axis(lambda x: 1/np.sum(x), 0, weightMatrix)*np.matmul((weightMatrix*L_k_r).transpose(), \n",
    "                                                                                              Us[:, r_number])\n",
    "      \n",
    "            Vs[:, r_number] = Vs[:, r_number]/np.linalg.norm(Vs[:, r_number])\n",
    "      \n",
    "            mult_thing = np.matmul(np.atleast_2d(Us[:, r_number]).transpose(), np.atleast_2d(Vs[:, r_number]))\n",
    "\n",
    "            special_number = np.sum(weightMatrix*(mult_thing**2))\n",
    "      \n",
    "      # mu/special_number\n",
    "      \n",
    "            sigma_vec[r_number] = max(0, shrink_operator(x=np.sum(mult_thing * L_k_r*weightMatrix)/special_number, \n",
    "                         mu=mu))\n",
    "      \n",
    "    #  print(mean(sigma_vec))\n",
    "\n",
    "            L_k_r = L_k_r - sigma_vec[r_number] *  mult_thing\n",
    "      \n",
    "        L_k_plus_1 = L_k\n",
    "    \n",
    "        Z = L_k-L_k_r\n",
    "    \n",
    "        L_k_plus_1[W!=0] = Z[W!=0]\n",
    "\n",
    "        first_num = (np.linalg.norm(P_Omega(weightMatrix*(L_k_plus_1-Z), W), 'fro')\n",
    "                /np.linalg.norm(P_Omega(weightMatrix, W), 'fro'))\n",
    "    \n",
    "    \n",
    "        second_num = (np.linalg.norm(weightMatrix*(L_k_plus_1-L_k), 'fro')/np.linalg.norm(weightMatrix, 'fro'))\n",
    "    \n",
    "        condition1 = (first_num < tolerance) | (second_num  < tolerance)\n",
    "    \n",
    "        condition2 = (iter_number >= max_iter)\n",
    "        \n",
    "        if condition1 | condition2:\n",
    "      \n",
    "            L_k_final = Z\n",
    "      \n",
    "            iterating = False\n",
    "      \n",
    "            break\n",
    "      \n",
    "        else:\n",
    "      \n",
    "            L_k = L_k_plus_1\n",
    "      \n",
    "            iter_number = iter_number+1\n",
    "      \n",
    "            continue\n",
    "                    \n",
    "    ## Is updating changing much? \n",
    "\n",
    "    return(Z)\n",
    "\n",
    "  \n",
    "\n",
    "  \n"
   ]
  },
  {
   "cell_type": "code",
   "execution_count": null,
   "metadata": {},
   "outputs": [],
   "source": []
  },
  {
   "cell_type": "code",
   "execution_count": null,
   "metadata": {},
   "outputs": [],
   "source": []
  },
  {
   "cell_type": "code",
   "execution_count": null,
   "metadata": {},
   "outputs": [],
   "source": []
  },
  {
   "cell_type": "code",
   "execution_count": null,
   "metadata": {},
   "outputs": [],
   "source": []
  },
  {
   "cell_type": "code",
   "execution_count": null,
   "metadata": {},
   "outputs": [],
   "source": []
  }
 ],
 "metadata": {
  "kernelspec": {
   "display_name": "Python 3",
   "language": "python",
   "name": "python3"
  },
  "language_info": {
   "codemirror_mode": {
    "name": "ipython",
    "version": 3
   },
   "file_extension": ".py",
   "mimetype": "text/x-python",
   "name": "python",
   "nbconvert_exporter": "python",
   "pygments_lexer": "ipython3",
   "version": "3.8.5"
  }
 },
 "nbformat": 4,
 "nbformat_minor": 4
}
